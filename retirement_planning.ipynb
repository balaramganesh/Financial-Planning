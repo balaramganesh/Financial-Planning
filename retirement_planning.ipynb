{
 "metadata": {
  "language_info": {
   "codemirror_mode": {
    "name": "ipython",
    "version": 3
   },
   "file_extension": ".py",
   "mimetype": "text/x-python",
   "name": "python",
   "nbconvert_exporter": "python",
   "pygments_lexer": "ipython3",
   "version": "3.8.3-final"
  },
  "orig_nbformat": 2,
  "kernelspec": {
   "name": "Python 3.8.3 64-bit",
   "display_name": "Python 3.8.3 64-bit",
   "metadata": {
    "interpreter": {
     "hash": "915c962b848950f6b579908b5c0c469f5d463a1a519355e2d7781dc7d136d5a9"
    }
   }
  }
 },
 "nbformat": 4,
 "nbformat_minor": 2,
 "cells": [
  {
   "cell_type": "code",
   "execution_count": 2,
   "metadata": {},
   "outputs": [],
   "source": [
    "import numpy as np"
   ]
  },
  {
   "source": [
    "# Finding out how much I need from retirement age to until I die"
   ],
   "cell_type": "markdown",
   "metadata": {}
  },
  {
   "cell_type": "code",
   "execution_count": 6,
   "metadata": {
    "tags": []
   },
   "outputs": [
    {
     "output_type": "stream",
     "name": "stdout",
     "text": [
      "Total Amount of money requred from retirement to death: Rs. 141814073.43\n"
     ]
    }
   ],
   "source": [
    "#Update only these values\n",
    "#################################################################################\n",
    "#Age of retirement in years\n",
    "retire_age = 50\n",
    "#Approximate age during death in years\n",
    "die_age = 80\n",
    "#Current age in years\n",
    "current_age = 23\n",
    "#Current monthly requirement in rupees\n",
    "current_monthly_req = 30000\n",
    "#Inflation rate in percent\n",
    "inflation = 6\n",
    "#################################################################################\n",
    "\n",
    "#################################################################################\n",
    "#Finding total and stepwise (monthly) amount required in rupees\n",
    "retire_age_monthly_req = current_monthly_req*(1+inflation/100)**(retire_age-current_age)\n",
    "total = retire_age_monthly_req\n",
    "step = retire_age_monthly_req\n",
    "#################################################################################\n",
    "\n",
    "for i in range(1,12*(die_age-retire_age)+1) :\n",
    "    step *= (1+inflation/100)**(1/12)\n",
    "    total += step\n",
    "print(\"Total Amount of money requred from retirement to death: Rs.\",np.round(total,2))"
   ]
  },
  {
   "source": [
    "# Finding Final Return for increasing SIP and adjusted with inflation"
   ],
   "cell_type": "markdown",
   "metadata": {}
  },
  {
   "cell_type": "code",
   "execution_count": 5,
   "metadata": {},
   "outputs": [
    {
     "output_type": "stream",
     "name": "stdout",
     "text": [
      "Total Invested Amount:  576416.77\nInvested Amount's value at End of Duration only subject to inflation (if not invested):  666837.85\nTotal Return Amount:  770262.0\n"
     ]
    }
   ],
   "source": [
    "# Update only these values\n",
    "#################################################################################\n",
    "#The SIP value at the beginning of investing\n",
    "start_sip = 8500   \n",
    "# Duration of plan in years\n",
    "duration = 5\n",
    "#Inflation rate in percent\n",
    "inflation = 6\n",
    "#Plan's annual return in percent\n",
    "annual_return = 12\n",
    "#Annualized increase in SIP in percent\n",
    "sip_increase_annualized = 5\n",
    "################################################################################\n",
    "\n",
    "################################################################################\n",
    "#Finding monthly rates for inflation, plan and return in percent\n",
    "sip_increase_monthly = 100*((1+sip_increase_annualized/100)**(1/12)-1)\n",
    "inflation_monthly = 100*((1+inflation/100)**(1/12)-1)\n",
    "return_monthly = 100*((1+annual_return/100)**(1/12)-1)\n",
    "################################################################################\n",
    "\n",
    "################################################################################\n",
    "#Defining total and stepwise (monthly) terms for return, invested amount and inflated value\n",
    "total_invested = start_sip\n",
    "step_invested = start_sip\n",
    "step_return = step_invested*(1+return_monthly/100)**(duration*12)\n",
    "total_return = step_return\n",
    "step_inflated = step_invested*(1+inflation_monthly/100)**(duration*12)\n",
    "total_inflated = step_inflated\n",
    "################################################################################\n",
    "\n",
    "################################################################################\n",
    "#Loop to calculate total values\n",
    "for i in range(duration*12,1,-1):\n",
    "    step_invested *= (1+sip_increase_monthly/100)\n",
    "    step_return = step_invested*(1+return_monthly/100)**(i-1)\n",
    "    step_inflated = step_invested*(1+inflation_monthly/100)**(i-1)\n",
    "\n",
    "    total_return += step_return\n",
    "    total_invested += step_invested\n",
    "    total_inflated += step_inflated\n",
    "################################################################################\n",
    "\n",
    "print(\"Total Invested Amount: \",np.round(total_invested,2))\n",
    "print(\"Invested Amount's value at End of Duration only subject to inflation (if not invested): \",np.round(total_inflated,2))\n",
    "print(\"Total Return Amount: \",np.round(np.round(total_return,2)))"
   ]
  },
  {
   "cell_type": "code",
   "execution_count": null,
   "metadata": {},
   "outputs": [],
   "source": []
  }
 ]
}